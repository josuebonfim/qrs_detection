{
 "cells": [
  {
   "cell_type": "markdown",
   "id": "47a8f910",
   "metadata": {},
   "source": [
    "# Análise de sinais para extração de características\n",
    "No nosso caso, características voltadas à classificação para efeito diagnóstico"
   ]
  },
  {
   "cell_type": "markdown",
   "id": "e1ef095a",
   "metadata": {},
   "source": [
    "## Características no \"domínio original\"\n",
    "\n",
    "Entenda-se não necessariamente o domínio de aquisição, mas o domínio em que o sinal em questão é utilizaod pelo profissional de saúde (por exemplo, o domínio espacial no caso das imagens médicas, ou o domínio do tempo no caso dos sinais biológicos)\n",
    "\n",
    "* Características envolvendo, também, domínios transformados.\n",
    "    - Fourier (mais utilizados)\n",
    "    - Wavelets (mais utilizados)\n",
    "    - Componentes principais (Kahunen-Loève) - PCA\n",
    "    - Componentes independentes"
   ]
  },
  {
   "attachments": {},
   "cell_type": "markdown",
   "id": "b128fb7b",
   "metadata": {},
   "source": [
    "## Características no \"domínio original\"\n",
    "\n",
    "Em geral: \n",
    "- Medidas de amplitude (refiticada) ou de valores quadráticos ou de valores eficazes ao longo de janelas temporais.\n",
    "- Operadores de diferenças finitas (filtro passa altas de baixa ordem)\n",
    "\n",
    "Especificamente para o ECG\n",
    "- Padronizado (comportamento consistente interindivíduo e intraindivíduo)\n",
    "<img src=\"SinusRhythmLabels.svg.png\" alt= “” width=\"350px\" height=\"350px\">\n",
    "\n",
    "<b>Intervalo RR</b>\n",
    "- média ao longo do uma janela temporal\n",
    "- desvio padrão ou variância ao longo da janela temporal\n",
    "\n",
    "<b>Intervalos QR, QS</b>\n",
    "- valores individuais ou relacões\n",
    "\n",
    "<b>Relações de amplitude</b>\n",
    "- R/Q, R/S (avaliar em cada janela + variâncias e médias)"
   ]
  },
  {
   "attachments": {},
   "cell_type": "markdown",
   "id": "05cbab36",
   "metadata": {},
   "source": [
    "Para a detecção automática dos picos QRS em uma derivação individualde ECG:\n",
    "\n",
    "Pré-processamento\n",
    "1. Filtrar o sinal de ECG, utilizando um filtro rejeita-faixas do tipo notch, as frequências de 50 Hz e 150 Hz\n",
    "2. Filtrar o sinal de ECG, utilizando um filtro passa-baixas, as frequências acima de 245 Hz.\n",
    "3. Filtrar o sinal de ECG, utilizando um filtro passa-altas, as frequências abaixo de 0,6 Hz.\n",
    "\n",
    "Pam Tompkins\n",
    "1. Filtrar o sinal de ECG, utilizando um filtro passa-faixas, de 8 Hz a 12 Hz\n",
    "2. Realizar a diferença de ordem 1 (estimador de derivada escalonada)\n",
    "3. Detectar a inversão de derivada\n",
    "4. Detectar o complexo R e o complexo S do ECG\n",
    "5. Detectar o complexo Q analisando-se apenas o intervalo SR\n"
   ]
  },
  {
   "cell_type": "code",
   "execution_count": 1,
   "id": "93fe11e8",
   "metadata": {},
   "outputs": [],
   "source": [
    "from matplotlib import pyplot as plt\n",
    "import numpy as np\n",
    "from scipy.io import loadmat\n"
   ]
  },
  {
   "cell_type": "code",
   "execution_count": 1,
   "id": "db77298a",
   "metadata": {},
   "outputs": [],
   "source": [
    "def deteccao_picos_r(x, fs = 500,freqs_notch = [50, 150], freq_highpass = 245, freq_lowpass = 0.6, freqs_qrs = [8, 12], duracao_minimia_deteccao_r = 0.025, tipo_filtro = 'fir', ordem_filtro = 400, window_type = 'hamming'):\n",
    "\n",
    "    for n in range (len(freqs_notch)):\n",
    "        x1 = notch(x, tipo_filtro, ordem_filtro, freqs_notch[n], fs)\n",
    "         \n"
   ]
  },
  {
   "cell_type": "code",
   "execution_count": 2,
   "id": "cd052890",
   "metadata": {},
   "outputs": [],
   "source": [
    "def notch(x, tipo_filtro, ordem_filtro, freq, fs):\n",
    "    if tipo_filtro in ['hamming', 'hann', 'blackman', 'retangular']:\n",
    "        banda_refeicao = [freq - 5, freq + 5]\n",
    "        h = firwin(No + 1, banda_rejeicao / fs * 2, window = tipo_filtro, pass_zero = \"bandstop\")\n",
    "        return np.convolve(h, x)\n",
    "    \n"
   ]
  },
  {
   "attachments": {},
   "cell_type": "markdown",
   "id": "af97e118",
   "metadata": {},
   "source": [
    "# PARA CASA\n",
    "\n",
    "fazer o iir como sendo o butterworth\n",
    "Nota: utilizar a função filter do scipy"
   ]
  }
 ],
 "metadata": {
  "kernelspec": {
   "display_name": "Python 3 (ipykernel)",
   "language": "python",
   "name": "python3"
  },
  "language_info": {
   "codemirror_mode": {
    "name": "ipython",
    "version": 3
   },
   "file_extension": ".py",
   "mimetype": "text/x-python",
   "name": "python",
   "nbconvert_exporter": "python",
   "pygments_lexer": "ipython3",
   "version": "3.9.7"
  }
 },
 "nbformat": 4,
 "nbformat_minor": 5
}
